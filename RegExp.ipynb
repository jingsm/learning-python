{
 "cells": [
  {
   "cell_type": "code",
   "execution_count": 12,
   "metadata": {
    "collapsed": true
   },
   "outputs": [],
   "source": [
    "import os, re, sys, urllib\n"
   ]
  },
  {
   "cell_type": "code",
   "execution_count": 13,
   "metadata": {
    "collapsed": true
   },
   "outputs": [],
   "source": [
    "def printReg(m):\n",
    "    count = 0\n",
    "    \n",
    "    if m != None:\n",
    "        print(str(count) + \" match : \" + m.group() + \" (\" + str(m.start()) + \", \" + str(m.end()) + \")\")\n",
    "        print(\"    Group count : \" + str(m.lastindex))\n",
    "        print(\"    \" + m.group(1) + \" (\" + str(m.start(1)) + \", \" + str(m.end(1)) + \")\")\n",
    "        print(\"    \" + m.group(2) + \" (\" + str(m.start(2)) + \", \" + str(m.end(2)) + \")\")\n",
    "        print(\"    \" + m.group(3) + \" (\" + str(m.start(3)) + \", \" + str(m.end(3)) + \")\")\n",
    "    else:\n",
    "        print(\"None\")\n",
    "    #print(m.group(1) + m.group(3))\n",
    "    print(\"\")"
   ]
  },
  {
   "cell_type": "code",
   "execution_count": 14,
   "metadata": {
    "collapsed": true
   },
   "outputs": [],
   "source": [
    "def example001(source, pattern, repl):\n",
    "    m = re.match(pattern, source, 0);\n",
    "    printReg(m)\n",
    "    \n",
    "    m = re.search(pattern, source, 0);\n",
    "    printReg(m)\n",
    "    \n",
    "    list = re.findall(pattern, source, 0);\n",
    "    for result in list:\n",
    "        print(result)\n",
    "    print(\"\")\n",
    "    \n",
    "    #--- [ ($1, $2, $3), ($1, $2, $3) ]\n",
    "    #list = re.split(pattern, source, 0, 0);\n",
    "    \n",
    "    #--- count : 0. 전체 매핑 문자열 치환, n. 해당 개수만큼 치환\n",
    "    resultString = re.sub(pattern, repl, source, 0, 0);\n",
    "    print(resultString)\n",
    "    print(\"\")\n",
    "    \n",
    "    #resultString = re.sub(pattern, 치환함수, source);\n",
    "    #print(resultString)\n",
    "    #print(\"\")\n",
    "    \n",
    "    regExp = re.compile(pattern, 0);\n",
    "    matchObject = regExp.search(source, 0);\n",
    "    printReg(matchObject)"
   ]
  },
  {
   "cell_type": "code",
   "execution_count": 15,
   "metadata": {},
   "outputs": [
    {
     "name": "stdout",
     "output_type": "stream",
     "text": [
      "0 match : 700-827-7019 (0, 12)\n",
      "    Group count : 3\n",
      "    700 (0, 3)\n",
      "    827 (4, 7)\n",
      "    7019 (8, 12)\n",
      "\n",
      "0 match : 700-827-7019 (0, 12)\n",
      "    Group count : 3\n",
      "    700 (0, 3)\n",
      "    827 (4, 7)\n",
      "    7019 (8, 12)\n",
      "\n",
      "('700', '827', '7019')\n",
      "('010', '5033', '3931')\n",
      "\n",
      "Hello World!  700 827 7019   \n",
      "Hello World!\n",
      "\n",
      "0 match : 700-827-7019 (0, 12)\n",
      "    Group count : 3\n",
      "    700 (0, 3)\n",
      "    827 (4, 7)\n",
      "    7019 (8, 12)\n",
      "\n"
     ]
    }
   ],
   "source": [
    "source = \"700-827-7019  700 827 7019   \\n010-5033-3931\";\n",
    "pattern = r\"(\\d{3})-(\\d{3,4})-(\\d{4})\";\n",
    "repl = r\"Hello World!\";\n",
    "\n",
    "example001(source, pattern, repl)\n"
   ]
  },
  {
   "cell_type": "code",
   "execution_count": 9,
   "metadata": {
    "collapsed": true
   },
   "outputs": [],
   "source": [
    "regExp = r'(?P<dt_>\\d+-\\d+-\\d+ \\d+:[0-9]+[^\\,]+),(?P<uid>[^\\,]+),(?P<name>[^\\,]+),(?P<avtserial>[0-9]+[^\\,]+),(?P<level>[0-9]*[^\\,]+),(?P<title>[0-9]*[^\\,]+),(?P<str>[0-9]*[^\\,]+),(?P<crt>[0-9]*[^\\,]+),(?P<sns>[0-9]*[^\\,]+),(?P<skl>[0-9]*[^\\,]+),(?P<roomid>[0-9]*[^\\,]+),(?P<logid>[0-9]*[^\\,]+),(?P<gameid>[^\\,]+),(?P<founder>[^\\,]+),(?P<courseid>[0-9]*[^\\,]+),(?P<tourid>[0-9]*[^\\,]+),(?P<gametype>[0-9]*[^\\,]+),(?P<holeid>[0-9]*[^\\,]+),(?P<shotcount>[0-9]*[^\\,]+),(?P<score>[0-9]*[^\\,]+),(?P<totalscore>[0-9]*[^\\,]+),(?P<clubtype>[0-9]*[^\\,]+),(?P<sposx>[0-9]*[^\\,]+),(?P<sposy>[0-9]*[^\\,]+),(?P<sposz>[0-9]*[^\\,]+),(?P<eposx>[0-9]*[^\\,]+),(?P<eposy>[0-9]*[^\\,]+),(?P<eposz>[0-9]*[^\\,]+),(?P<mulcnt>[0-9]*[^\\,]+),(?P<turntime>[^\\,]+),(?P<rcode>[0-9]*[^\\,]+),(?P<ulevel>[0-9]*[^\\,]+),(?P<fulldesc>[^\\,]*),(?P<correctness>[0-9]*[^\\,]+),(?P<streangth>[0-9]*[^\\,]+),(?P<hitpox>[0-9]*[^\\,]+),(?P<hitpoy>[0-9]*[^\\,]+),(?P<distance>[0-9].+)'\n",
    "txtData = '2017-04-28 16:00,dlrmadl@shotonline.co.kr,길원모집중,313401,114,6,30,20,5,5,2.02E+20,2.02E+13,#GAME_002070_13,길원모집중,4,-2017185,0,7,3,3,22,5,-17.702112,480.315674,5044.559082,38.045425,479.202057,4892.375,0,54,28933,5,3/1/4/8,0,23.85853,0,0,6.48'\n"
   ]
  },
  {
   "cell_type": "code",
   "execution_count": 10,
   "metadata": {
    "collapsed": true
   },
   "outputs": [],
   "source": [
    "regPattern = re.compile(regExp)"
   ]
  },
  {
   "cell_type": "code",
   "execution_count": 11,
   "metadata": {},
   "outputs": [
    {
     "name": "stdout",
     "output_type": "stream",
     "text": [
      "{'level': '114', 'streangth': '23.85853', 'gametype': '0', 'holeid': '7', 'hitpoy': '0', 'crt': '20', 'gameid': '#GAME_002070_13', 'tourid': '-2017185', 'rcode': '28933', 'courseid': '4', 'hitpox': '0', 'eposz': '4892.375', 'sposx': '-17.702112', 'dt_': '2017-04-28 16:00', 'shotcount': '3', 'correctness': '0', 'founder': '길원모집중', 'clubtype': '5', 'sns': '5', 'eposx': '38.045425', 'avtserial': '313401', 'turntime': '54', 'mulcnt': '0', 'name': '길원모집중', 'uid': 'dlrmadl@shotonline.co.kr', 'logid': '2.02E+13', 'roomid': '2.02E+20', 'score': '3', 'skl': '5', 'fulldesc': '3/1/4/8', 'sposz': '5044.559082', 'str': '30', 'sposy': '480.315674', 'ulevel': '5', 'distance': '6.48', 'title': '6', 'totalscore': '22', 'eposy': '479.202057'}\n"
     ]
    }
   ],
   "source": [
    "#isMatch = regPattern.match(txtData)\n",
    "regMatch = regPattern.search(txtData)\n",
    "\n",
    "if regMatch:\n",
    "    dicMatch = regMatch.groupdict()\n",
    "    print (dicMatch)"
   ]
  },
  {
   "cell_type": "code",
   "execution_count": 5,
   "metadata": {
    "scrolled": true
   },
   "outputs": [
    {
     "name": "stdout",
     "output_type": "stream",
     "text": [
      "dt_ : 2017-04-28 16:00\n",
      "name : 모집중\n",
      "uid : abcd@abcd.com\n"
     ]
    }
   ],
   "source": [
    "for k, v in dicMatch.items():\n",
    "    print ('{} : {}'.format(k, v))"
   ]
  },
  {
   "cell_type": "code",
   "execution_count": 1,
   "metadata": {},
   "outputs": [
    {
     "name": "stdout",
     "output_type": "stream",
     "text": [
      " D 드라이브의 볼륨: DATA01\n",
      " 볼륨 일련 번호: 8016-08A5\n",
      "\n",
      " D:\\GIT\\jingsm\\learning-python 디렉터리\n",
      "\n",
      "2017-06-01  오전 11:13    <DIR>          .\n",
      "2017-06-01  오전 11:13    <DIR>          ..\n",
      "2017-05-12  오후 02:34    <DIR>          .ipynb_checkpoints\n",
      "2017-05-10  오후 06:21             1,970 json.ipynb\n",
      "2017-05-02  오전 10:44    <DIR>          matplotlib\n",
      "2017-06-01  오후 01:33    <DIR>          numpy\n",
      "2017-05-10  오전 10:16    <DIR>          pandas\n",
      "2017-05-15  오후 12:15             7,119 RegExp.ipynb\n",
      "               2개 파일               9,089 바이트\n",
      "               6개 디렉터리  512,597,581,824 바이트 남음\n"
     ]
    }
   ],
   "source": []
  },
  {
   "cell_type": "code",
   "execution_count": null,
   "metadata": {
    "collapsed": true
   },
   "outputs": [],
   "source": []
  }
 ],
 "metadata": {
  "kernelspec": {
   "display_name": "Python 3",
   "language": "python",
   "name": "python3"
  },
  "language_info": {
   "codemirror_mode": {
    "name": "ipython",
    "version": 3
   },
   "file_extension": ".py",
   "mimetype": "text/x-python",
   "name": "python",
   "nbconvert_exporter": "python",
   "pygments_lexer": "ipython3",
   "version": "3.5.3"
  }
 },
 "nbformat": 4,
 "nbformat_minor": 2
}
