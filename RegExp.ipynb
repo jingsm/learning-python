{
 "cells": [
  {
   "cell_type": "code",
   "execution_count": 1,
   "metadata": {
    "collapsed": true
   },
   "outputs": [],
   "source": [
    "import re\n"
   ]
  },
  {
   "cell_type": "code",
   "execution_count": 58,
   "metadata": {
    "collapsed": true
   },
   "outputs": [],
   "source": [
    "regExp = '(?P<dt_>\\d+-\\d+-\\d+ \\d+:[0-9]+[^\\,]+),(?P<uid>[^\\,]+),(?P<name>[^\\,]+)'\n",
    "txtData = '2017-04-28 16:00,abcd@abcd.com,모집중'\n"
   ]
  },
  {
   "cell_type": "code",
   "execution_count": 59,
   "metadata": {},
   "outputs": [],
   "source": [
    "regPattern = re.compile(regExp)"
   ]
  },
  {
   "cell_type": "code",
   "execution_count": 60,
   "metadata": {},
   "outputs": [
    {
     "name": "stdout",
     "output_type": "stream",
     "text": [
      "{'uid': 'abcd@abcd.com', 'name': '모집중', 'dt_': '2017-04-28 16:00'}\n"
     ]
    }
   ],
   "source": [
    "#isMatch = regPattern.match(txtData)\n",
    "regMatch = regPattern.search(txtData)\n",
    "\n",
    "if regMatch:\n",
    "    dicMatch = regMatch.groupdict()\n",
    "    print (dicMatch)"
   ]
  },
  {
   "cell_type": "code",
   "execution_count": 61,
   "metadata": {
    "scrolled": true
   },
   "outputs": [
    {
     "name": "stdout",
     "output_type": "stream",
     "text": [
      "uid : abcd@abcd.com\n",
      "name : 모집중\n",
      "dt_ : 2017-04-28 16:00\n"
     ]
    }
   ],
   "source": [
    "for k, v in dicMatch.items():\n",
    "    print ('{} : {}'.format(k, v))"
   ]
  },
  {
   "cell_type": "code",
   "execution_count": null,
   "metadata": {
    "collapsed": true
   },
   "outputs": [],
   "source": []
  },
  {
   "cell_type": "code",
   "execution_count": null,
   "metadata": {
    "collapsed": true
   },
   "outputs": [],
   "source": []
  }
 ],
 "metadata": {
  "kernelspec": {
   "display_name": "Python 3",
   "language": "python",
   "name": "python3"
  },
  "language_info": {
   "codemirror_mode": {
    "name": "ipython",
    "version": 3
   },
   "file_extension": ".py",
   "mimetype": "text/x-python",
   "name": "python",
   "nbconvert_exporter": "python",
   "pygments_lexer": "ipython3",
   "version": "3.5.3"
  }
 },
 "nbformat": 4,
 "nbformat_minor": 2
}
