{
 "cells": [
  {
   "cell_type": "code",
   "execution_count": 10,
   "metadata": {
    "collapsed": true
   },
   "outputs": [],
   "source": [
    "def sendSMS(msgheader, msgcontent):\n",
    "    import json\n",
    "    import requests\n",
    "\n",
    "    api_url = \"http://notify.webzen.co.kr/SendGroup\"\n",
    "    sms_to = [\"010-0000-0000\", \"010-0000-0000\"]\n",
    "\n",
    "    req_headers = {'Content-type': 'application/json'}\n",
    "    req_data = {'msgheader' : '', 'msgcontent' : '', 'sms' : [sms_to] }\n",
    "\n",
    "    result = requests.post(api_url, data=json.dumps(req_data), headers=req_headers)\n",
    "\n",
    "    return result"
   ]
  },
  {
   "cell_type": "code",
   "execution_count": 11,
   "metadata": {},
   "outputs": [
    {
     "name": "stdout",
     "output_type": "stream",
     "text": [
      "<Response [404]>\n"
     ]
    }
   ],
   "source": [
    "print (sendSMS('test', 'test'))"
   ]
  },
  {
   "cell_type": "code",
   "execution_count": 7,
   "metadata": {},
   "outputs": [
    {
     "name": "stdout",
     "output_type": "stream",
     "text": [
      "{'msgheader': '', 'sms': ['010-0000-0000', '010-0000-0000'], 'msgcontent': ''}\n",
      "{\"msgheader\": \"\", \"sms\": [\"010-0000-0000\", \"010-0000-0000\"], \"msgcontent\": \"\"}\n"
     ]
    }
   ],
   "source": [
    "print (req_data)\n",
    "print (json_data)"
   ]
  },
  {
   "cell_type": "code",
   "execution_count": null,
   "metadata": {
    "collapsed": true
   },
   "outputs": [],
   "source": []
  }
 ],
 "metadata": {
  "kernelspec": {
   "display_name": "Python 3",
   "language": "python",
   "name": "python3"
  },
  "language_info": {
   "codemirror_mode": {
    "name": "ipython",
    "version": 3
   },
   "file_extension": ".py",
   "mimetype": "text/x-python",
   "name": "python",
   "nbconvert_exporter": "python",
   "pygments_lexer": "ipython3",
   "version": "3.5.3"
  }
 },
 "nbformat": 4,
 "nbformat_minor": 2
}
